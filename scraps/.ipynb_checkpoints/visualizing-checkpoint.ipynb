{
 "cells": [
  {
   "cell_type": "markdown",
   "metadata": {},
   "source": [
    "### word cloud"
   ]
  },
  {
   "cell_type": "code",
   "execution_count": null,
   "metadata": {},
   "outputs": [],
   "source": [
    "def ngram(df, col, n, top_n):\n",
    "    '''Plot Horizontal bar chart of the n-gram based on dataframe's column\n",
    "    \n",
    "    Args:\n",
    "        df: dataframe\n",
    "        col: column of the dataframe that we want to plot the hbar\n",
    "        n: value of n in ngram, n=1 for unigram, n=2 for bigrams ...\n",
    "        top_n: no. of most frequent n-grams\n",
    "\n",
    "    Result:\n",
    "        Plots a Horizontal bar\n",
    "    '''\n",
    "    \n",
    "    word_vectorizer = CountVectorizer(ngram_range=(n, n), analyzer='word')\n",
    "    sparse_matrix = word_vectorizer.fit_transform(df[col])\n",
    "    \n",
    "    frequencies = sum(sparse_matrix).toarray()[0]\n",
    "    index = word_vectorizer.get_feature_names()\n",
    "    \n",
    "    return pd.DataFrame(frequencies, index=index, columns=['frequency'])\\\n",
    "            .sort_values(by='frequency', ascending=False) \\\n",
    "            .reset_index() \\\n",
    "            .head(top_n)"
   ]
  },
  {
   "cell_type": "code",
   "execution_count": null,
   "metadata": {},
   "outputs": [],
   "source": [
    "# n grams"
   ]
  }
 ],
 "metadata": {
  "kernelspec": {
   "display_name": "Python 3",
   "language": "python",
   "name": "python3"
  },
  "language_info": {
   "codemirror_mode": {
    "name": "ipython",
    "version": 3
   },
   "file_extension": ".py",
   "mimetype": "text/x-python",
   "name": "python",
   "nbconvert_exporter": "python",
   "pygments_lexer": "ipython3",
   "version": "3.7.7"
  }
 },
 "nbformat": 4,
 "nbformat_minor": 4
}

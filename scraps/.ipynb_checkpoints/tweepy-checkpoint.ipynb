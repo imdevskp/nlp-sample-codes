{
 "cells": [
  {
   "cell_type": "markdown",
   "metadata": {},
   "source": [
    "## Authentication"
   ]
  },
  {
   "cell_type": "code",
   "execution_count": 1,
   "metadata": {},
   "outputs": [],
   "source": [
    "# importing libraries \n",
    "\n",
    "import pandas as pd\n",
    "import seaborn as sns\n",
    "\n",
    "import tweepy\n",
    "from textblob import TextBlob\n",
    "import pprint\n",
    "\n",
    "# https://developer.twitter.com/en/docs/tweets/data-dictionary/overview/tweet-object"
   ]
  },
  {
   "cell_type": "code",
   "execution_count": 2,
   "metadata": {},
   "outputs": [],
   "source": [
    "# twitter authentication\n",
    "\n",
    "consumer_key = ''\n",
    "consumer_secret = ''\n",
    "access_token = ''\n",
    "access_token_secret = ''\n",
    "\n",
    "auth = tweepy.OAuthHandler(consumer_key, consumer_secret)\n",
    "auth.set_access_token(access_token, access_token_secret)\n",
    "\n",
    "api = tweepy.API(auth)"
   ]
  },
  {
   "cell_type": "markdown",
   "metadata": {},
   "source": [
    "## User Data"
   ]
  },
  {
   "cell_type": "code",
   "execution_count": 4,
   "metadata": {},
   "outputs": [],
   "source": [
    "# api.get_user()\n",
    "# --------\n",
    "# Returns information about the specified user.\n",
    "    \n",
    "user = api.get_user(screen_name='@amazonIN')\n",
    "\n",
    "print(user.screen_name)\n",
    "print(user.id)\n",
    "print(user.favourites_count)\n",
    "print(user.followers_count)\n",
    "print(user.created_at)\n",
    "print(user.lang)"
   ]
  },
  {
   "cell_type": "markdown",
   "metadata": {},
   "source": [
    "## User timeline"
   ]
  },
  {
   "cell_type": "code",
   "execution_count": null,
   "metadata": {},
   "outputs": [],
   "source": [
    "# api.user_timeline()\n",
    "# -------------\n",
    "# Returns the 20 most recent statuses posted from the authenticating user or the user specified\n",
    "\n",
    "public_tweets = api.user_timeline(screen_name='@amazonIN') # gets list of tweets\n",
    "\n",
    "for tweet in public_tweets[:3]: # take first 3 tweets\n",
    "    print(tweet.text[:25]) # take first 25 characters of the tweet\n",
    "    print(tweet.retweet_count)\n",
    "    print(tweet.favorite_count)\n",
    "    print(tweet.lang)\n",
    "    print('')"
   ]
  },
  {
   "cell_type": "markdown",
   "metadata": {},
   "source": [
    "## Own Data"
   ]
  },
  {
   "cell_type": "code",
   "execution_count": null,
   "metadata": {},
   "outputs": [],
   "source": [
    "## api.me()\n",
    "# --------\n",
    "# Returns the authenticated user’s information\n",
    "\n",
    "me = api.me()\n",
    "\n",
    "print(me.screen_name)\n",
    "print(me.name)\n",
    "print(me.description)"
   ]
  },
  {
   "cell_type": "markdown",
   "metadata": {},
   "source": [
    "## Own timeline"
   ]
  },
  {
   "cell_type": "code",
   "execution_count": null,
   "metadata": {},
   "outputs": [],
   "source": [
    "## api.home_timeline([since_id][, max_id][, count][, page])\n",
    "\n",
    "# Returns the 20 most recent statuses, including retweets, \n",
    "# posted by the authenticating user and that user’s friends. \n",
    "# This is the equivalent of /timeline/home on the Web.\n",
    "\n",
    "public_tweets = api.home_timeline()\n",
    "\n",
    "for tweet in public_tweets[:3]: # take first 3 tweets\n",
    "    print(tweet.text[:25]) # take first 25 characters of the tweet\n",
    "    print(tweet.retweet_count)\n",
    "    print(tweet.favorite_count)\n",
    "    print(tweet.lang)\n",
    "    print('')"
   ]
  },
  {
   "cell_type": "code",
   "execution_count": null,
   "metadata": {},
   "outputs": [],
   "source": [
    "tweet = public_tweets[0]\n",
    "pprint.pprint(tweet)"
   ]
  },
  {
   "cell_type": "code",
   "execution_count": null,
   "metadata": {},
   "outputs": [],
   "source": [
    "print(tweet.text)\n",
    "print(tweet.id)\n",
    "print(tweet.favorite_count)\n",
    "print(tweet.retweet_count)\n",
    "print(tweet.lang)\n"
   ]
  },
  {
   "cell_type": "code",
   "execution_count": null,
   "metadata": {},
   "outputs": [],
   "source": [
    "print(tweet.user.screen_name)\n",
    "print(tweet.user.name)\n",
    "print(tweet.user.created_at)\n",
    "print(tweet.user.location)\n",
    "print(tweet.user.description)"
   ]
  },
  {
   "cell_type": "markdown",
   "metadata": {},
   "source": [
    "## Tweet Length"
   ]
  },
  {
   "cell_type": "code",
   "execution_count": null,
   "metadata": {},
   "outputs": [],
   "source": [
    "public_tweets = api.user_timeline(screen_name='@amazonIN') # gets list of tweets\n",
    "\n",
    "for tweet in public_tweets[:3]: # take first 3 tweets\n",
    "    print(tweet.text) # take first 25 characters of the tweet\n",
    "#     print(tweet)\n",
    "    print(tweet.extended_tweet())"
   ]
  },
  {
   "cell_type": "markdown",
   "metadata": {},
   "source": [
    "## Time Series"
   ]
  },
  {
   "cell_type": "code",
   "execution_count": null,
   "metadata": {},
   "outputs": [],
   "source": [
    "import nltk\n",
    "nltk.download('vader_lexicon')"
   ]
  },
  {
   "cell_type": "markdown",
   "metadata": {},
   "source": [
    "## Sentiment Analysis"
   ]
  },
  {
   "cell_type": "code",
   "execution_count": null,
   "metadata": {},
   "outputs": [],
   "source": [
    "from nltk.sentiment.vader import SentimentIntensityAnalyzer\n",
    "sid = SentimentIntensityAnalyzer()\n",
    "sent_scores = sid.polarity_scores(tweet.text)\n",
    "sent_scores"
   ]
  },
  {
   "cell_type": "code",
   "execution_count": null,
   "metadata": {},
   "outputs": [],
   "source": [
    "sid.polarity_scores(\"we are happy\")"
   ]
  },
  {
   "cell_type": "code",
   "execution_count": null,
   "metadata": {},
   "outputs": [],
   "source": [
    "sid.polarity_scores(\"we are not happy\")"
   ]
  },
  {
   "cell_type": "code",
   "execution_count": null,
   "metadata": {},
   "outputs": [],
   "source": [
    "sid.polarity_scores(\"sun rises in the east\")"
   ]
  },
  {
   "cell_type": "code",
   "execution_count": null,
   "metadata": {},
   "outputs": [],
   "source": [
    "# dataframe for storing tweets\n",
    "\n",
    "df = pd.DataFrame(columns=['text', 'retweetcount','sentiment']) \n",
    "\n",
    "public_tweets = api.user_timeline(screen_name='@amazonIN')\n",
    "\n",
    "for i, tweet in enumerate(public_tweets):\n",
    "    \n",
    "    # print(\"----------------------------\")\n",
    "    # print (\"Tweet \" + str(i) + (tweet.text))\n",
    "    # print (\"Retweets \" + str(tweet.retweet_count))\n",
    "    # print (\"Favorites \" +str(tweet.favorite_count))\n",
    "\n",
    "    t1 = TextBlob(tweet.text)\n",
    "\n",
    "    msg = ''\n",
    "\n",
    "    if (t1.subjectivity == 0):\n",
    "        msg = 'Fact'\n",
    "    else:\n",
    "        if (t1.polarity > 0 ):\n",
    "            msg = 'Positive'\n",
    "        else:\n",
    "            if (t1.polarity < 0):\n",
    "                msg = 'Negative'\n",
    "            else:\n",
    "                msg = 'Neutral'\n",
    "    \n",
    "    # print(msg)\n",
    " \n",
    "    df.loc[i] = [tweet.text, tweet.retweet_count, msg]\n",
    "    \n",
    "df = df.sort_values(by='retweetcount', ascending=False)\n",
    "df = df.reset_index(drop=True)\n",
    "print(df)"
   ]
  },
  {
   "cell_type": "code",
   "execution_count": null,
   "metadata": {},
   "outputs": [],
   "source": [
    "print(df['sentiment'].value_counts())"
   ]
  },
  {
   "cell_type": "code",
   "execution_count": null,
   "metadata": {},
   "outputs": [],
   "source": [
    "from tweepy import Stream \n",
    "from tweepy.streaming import StreamListene\n",
    "listen = SListener(api) \n",
    "stream = Stream(auth, listen) \n",
    "stream.sample()"
   ]
  }
 ],
 "metadata": {
  "kernelspec": {
   "display_name": "Python 3",
   "language": "python",
   "name": "python3"
  },
  "language_info": {
   "codemirror_mode": {
    "name": "ipython",
    "version": 3
   },
   "file_extension": ".py",
   "mimetype": "text/x-python",
   "name": "python",
   "nbconvert_exporter": "python",
   "pygments_lexer": "ipython3",
   "version": "3.7.7"
  }
 },
 "nbformat": 4,
 "nbformat_minor": 2
}

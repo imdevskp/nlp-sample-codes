{
 "cells": [
  {
   "cell_type": "code",
   "execution_count": 1,
   "metadata": {},
   "outputs": [],
   "source": [
    "# Overview of readability tests\n",
    "\n",
    "# Determine readability of an English passage \n",
    "# Scale ranging from primary school up to college graduate level \n",
    "# A mathematical formula utilizing word, syllable and sentence count \n",
    "# Used in fake news and opinion spam detection"
   ]
  },
  {
   "cell_type": "code",
   "execution_count": 2,
   "metadata": {},
   "outputs": [],
   "source": [
    "# Flesch reading ease\n",
    "\n",
    "# One of the oldest and most widely used tests \n",
    "# Dependent on two factors: \n",
    "#     Greater the average sentence length, harder the text is to read \n",
    "#         \"This is a short sentence.\" \n",
    "#         \"This is longer sentence with more words and it is harder to follow than the rst sentence.\" \n",
    "#     Greater the average number of syllables in a word, harder the text is to read \n",
    "#         \"I live in my home.\" \n",
    "#         \"I reside in my domicile.\" \n",
    "# Higher the score, greater the readability"
   ]
  },
  {
   "cell_type": "code",
   "execution_count": 3,
   "metadata": {},
   "outputs": [],
   "source": [
    "# Gunning fog index\n",
    "\n",
    "# Developed in 1954 \n",
    "# Also dependent on average sentence length \n",
    "# Greater the percentage of complex words, harder the text is to read \n",
    "# Higher the index, lesser the readability"
   ]
  },
  {
   "cell_type": "code",
   "execution_count": 4,
   "metadata": {},
   "outputs": [],
   "source": [
    "# ! pip install textatistic"
   ]
  },
  {
   "cell_type": "code",
   "execution_count": 1,
   "metadata": {},
   "outputs": [],
   "source": [
    "# Import the Textatistic class \n",
    "from textatistic import Textatistic "
   ]
  },
  {
   "cell_type": "code",
   "execution_count": null,
   "metadata": {},
   "outputs": [],
   "source": [
    "a = \"This is a short sentence.\" \n",
    "b = \"This is longer sentence with more words and it is harder to follow than the rst sentence.\" \n",
    "c = \"I live in my home.\" \n",
    "d = \"I reside in my domicile.\""
   ]
  },
  {
   "cell_type": "code",
   "execution_count": null,
   "metadata": {},
   "outputs": [],
   "source": [
    "# Create a Textatistic Object \n",
    "readability_scores = Textatistic(a).scores \n",
    " \n",
    "# Generate scores \n",
    "print(readability_scores['flesch_score']) \n",
    "print(readability_scores['gunningfog_score']) "
   ]
  },
  {
   "cell_type": "code",
   "execution_count": null,
   "metadata": {},
   "outputs": [],
   "source": [
    "# Create a Textatistic Object \n",
    "readability_scores = Textatistic(b).scores \n",
    " \n",
    "# Generate scores \n",
    "print(readability_scores['flesch_score']) \n",
    "print(readability_scores['gunningfog_score']) "
   ]
  },
  {
   "cell_type": "code",
   "execution_count": null,
   "metadata": {},
   "outputs": [],
   "source": [
    "# Create a Textatistic Object \n",
    "readability_scores = Textatistic(c).scores \n",
    " \n",
    "# Generate scores \n",
    "print(readability_scores['flesch_score']) \n",
    "print(readability_scores['gunningfog_score']) "
   ]
  },
  {
   "cell_type": "code",
   "execution_count": null,
   "metadata": {},
   "outputs": [],
   "source": [
    "# Create a Textatistic Object \n",
    "readability_scores = Textatistic(d).scores \n",
    " \n",
    "# Generate scores \n",
    "print(readability_scores['flesch_score']) \n",
    "print(readability_scores['gunningfog_score']) "
   ]
  }
 ],
 "metadata": {
  "kernelspec": {
   "display_name": "Python 3",
   "language": "python",
   "name": "python3"
  },
  "language_info": {
   "codemirror_mode": {
    "name": "ipython",
    "version": 3
   },
   "file_extension": ".py",
   "mimetype": "text/x-python",
   "name": "python",
   "nbconvert_exporter": "python",
   "pygments_lexer": "ipython3",
   "version": "3.7.7"
  }
 },
 "nbformat": 4,
 "nbformat_minor": 2
}

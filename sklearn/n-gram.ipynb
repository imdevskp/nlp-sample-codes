{
 "cells": [
  {
   "cell_type": "markdown",
   "metadata": {},
   "source": [
    "## Library"
   ]
  },
  {
   "cell_type": "code",
   "execution_count": 4,
   "metadata": {},
   "outputs": [],
   "source": [
    "import pandas as pd\n",
    "from pprint import pprint\n",
    "from sklearn.feature_extraction.text import CountVectorizer, TfidfVectorizer\n",
    "from sklearn.metrics.pairwise import cosine_similarity"
   ]
  },
  {
   "cell_type": "markdown",
   "metadata": {},
   "source": [
    "## Data"
   ]
  },
  {
   "cell_type": "code",
   "execution_count": 5,
   "metadata": {},
   "outputs": [
    {
     "name": "stdout",
     "output_type": "stream",
     "text": [
      "['the house had a tiny little mouse', 'the cat saw the mouse', 'the house mouse ran away from the house', 'the cat finally ate the mouse', 'the end of the mouse story']\n"
     ]
    }
   ],
   "source": [
    "dataset = [\"the house had a tiny little mouse\",\n",
    "           \"the cat saw the mouse\",\n",
    "           \"the house mouse ran away from the house\",\n",
    "           \"the cat finally ate the mouse\",\n",
    "           \"the end of the mouse story\"]\n",
    "print(dataset)"
   ]
  },
  {
   "cell_type": "markdown",
   "metadata": {},
   "source": [
    "## n-gram"
   ]
  },
  {
   "cell_type": "markdown",
   "metadata": {},
   "source": [
    "### unigram"
   ]
  },
  {
   "cell_type": "code",
   "execution_count": 9,
   "metadata": {},
   "outputs": [
    {
     "name": "stdout",
     "output_type": "stream",
     "text": [
      "{'ate': 0,\n",
      " 'away': 1,\n",
      " 'cat': 2,\n",
      " 'end': 3,\n",
      " 'finally': 4,\n",
      " 'house': 5,\n",
      " 'little': 6,\n",
      " 'mouse': 7,\n",
      " 'ran': 8,\n",
      " 'saw': 9,\n",
      " 'story': 10,\n",
      " 'tiny': 11}\n"
     ]
    }
   ],
   "source": [
    "tfidf_model = TfidfVectorizer(max_features=20, \n",
    "                              stop_words='english', \n",
    "                              ngram_range=(1, 1))\n",
    "X = tfidf_model.fit_transform(dataset)\n",
    "pprint(tfidf_model.vocabulary_)"
   ]
  },
  {
   "cell_type": "markdown",
   "metadata": {},
   "source": [
    "### bigram"
   ]
  },
  {
   "cell_type": "code",
   "execution_count": 11,
   "metadata": {},
   "outputs": [
    {
     "name": "stdout",
     "output_type": "stream",
     "text": [
      "{'ate mouse': 0,\n",
      " 'away house': 1,\n",
      " 'cat finally': 2,\n",
      " 'cat saw': 3,\n",
      " 'end mouse': 4,\n",
      " 'finally ate': 5,\n",
      " 'house mouse': 6,\n",
      " 'house tiny': 7,\n",
      " 'little mouse': 8,\n",
      " 'mouse ran': 9,\n",
      " 'mouse story': 10,\n",
      " 'ran away': 11,\n",
      " 'saw mouse': 12,\n",
      " 'tiny little': 13}\n"
     ]
    }
   ],
   "source": [
    "tfidf_model = TfidfVectorizer(max_features=20, \n",
    "                              stop_words='english', \n",
    "                              ngram_range=(2, 2))\n",
    "X = tfidf_model.fit_transform(dataset)\n",
    "pprint(tfidf_model.vocabulary_)"
   ]
  },
  {
   "cell_type": "markdown",
   "metadata": {},
   "source": [
    "### trigram"
   ]
  },
  {
   "cell_type": "code",
   "execution_count": 12,
   "metadata": {},
   "outputs": [
    {
     "name": "stdout",
     "output_type": "stream",
     "text": [
      "{'cat finally ate': 0,\n",
      " 'cat saw mouse': 1,\n",
      " 'end mouse story': 2,\n",
      " 'finally ate mouse': 3,\n",
      " 'house mouse ran': 4,\n",
      " 'house tiny little': 5,\n",
      " 'mouse ran away': 6,\n",
      " 'ran away house': 7,\n",
      " 'tiny little mouse': 8}\n"
     ]
    }
   ],
   "source": [
    "tfidf_model = TfidfVectorizer(max_features=20, \n",
    "                              stop_words='english', \n",
    "                              ngram_range=(3, 3))\n",
    "X = tfidf_model.fit_transform(dataset)\n",
    "pprint(tfidf_model.vocabulary_)"
   ]
  },
  {
   "cell_type": "markdown",
   "metadata": {},
   "source": [
    "### range"
   ]
  },
  {
   "cell_type": "code",
   "execution_count": 13,
   "metadata": {},
   "outputs": [
    {
     "name": "stdout",
     "output_type": "stream",
     "text": [
      "{'ate': 0,\n",
      " 'ate mouse': 1,\n",
      " 'away': 2,\n",
      " 'away house': 3,\n",
      " 'cat': 4,\n",
      " 'cat finally': 5,\n",
      " 'cat saw': 6,\n",
      " 'end': 7,\n",
      " 'end mouse': 8,\n",
      " 'finally': 9,\n",
      " 'finally ate': 10,\n",
      " 'house': 11,\n",
      " 'little mouse': 12,\n",
      " 'mouse': 13,\n",
      " 'mouse ran': 14,\n",
      " 'ran': 15,\n",
      " 'ran away': 16,\n",
      " 'saw': 17,\n",
      " 'saw mouse': 18,\n",
      " 'story': 19}\n"
     ]
    }
   ],
   "source": [
    "tfidf_model = TfidfVectorizer(max_features=20, \n",
    "                              stop_words='english', \n",
    "                              ngram_range=(1, 2))\n",
    "X = tfidf_model.fit_transform(dataset)\n",
    "pprint(tfidf_model.vocabulary_)"
   ]
  },
  {
   "cell_type": "code",
   "execution_count": null,
   "metadata": {},
   "outputs": [],
   "source": []
  }
 ],
 "metadata": {
  "kernelspec": {
   "display_name": "Python 3",
   "language": "python",
   "name": "python3"
  },
  "language_info": {
   "codemirror_mode": {
    "name": "ipython",
    "version": 3
   },
   "file_extension": ".py",
   "mimetype": "text/x-python",
   "name": "python",
   "nbconvert_exporter": "python",
   "pygments_lexer": "ipython3",
   "version": "3.7.7"
  }
 },
 "nbformat": 4,
 "nbformat_minor": 4
}

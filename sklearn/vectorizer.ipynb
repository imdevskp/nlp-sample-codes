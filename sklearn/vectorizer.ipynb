{
 "cells": [
  {
   "cell_type": "markdown",
   "metadata": {},
   "source": [
    "## Libraries"
   ]
  },
  {
   "cell_type": "code",
   "execution_count": 1,
   "metadata": {},
   "outputs": [],
   "source": [
    "import pandas as pd\n",
    "from pprint import pprint\n",
    "from sklearn.feature_extraction.text import CountVectorizer, TfidfVectorizer\n",
    "from sklearn.metrics.pairwise import cosine_similarity"
   ]
  },
  {
   "cell_type": "markdown",
   "metadata": {},
   "source": [
    "## Data"
   ]
  },
  {
   "cell_type": "code",
   "execution_count": 2,
   "metadata": {},
   "outputs": [
    {
     "name": "stdout",
     "output_type": "stream",
     "text": [
      "['the house had a tiny little mouse', 'the cat saw the mouse', 'the mouse ran away from the house', 'the cat finally ate the mouse', 'the end of the mouse story']\n"
     ]
    }
   ],
   "source": [
    "dataset = [\"the house had a tiny little mouse\",\n",
    "           \"the cat saw the mouse\",\n",
    "           \"the house mouse ran away from the house\",\n",
    "           \"the cat finally ate the mouse\",\n",
    "           \"the end of the mouse story\"]\n",
    "print(dataset)"
   ]
  },
  {
   "cell_type": "markdown",
   "metadata": {},
   "source": [
    "## Count Vectorizer"
   ]
  },
  {
   "cell_type": "code",
   "execution_count": 3,
   "metadata": {},
   "outputs": [
    {
     "name": "stdout",
     "output_type": "stream",
     "text": [
      "  (0, 5)\t1\n",
      "  (0, 11)\t1\n",
      "  (0, 6)\t1\n",
      "  (0, 7)\t1\n",
      "  (1, 7)\t1\n",
      "  (1, 2)\t1\n",
      "  (1, 9)\t1\n",
      "  (2, 5)\t1\n",
      "  (2, 7)\t1\n",
      "  (2, 8)\t1\n",
      "  (2, 1)\t1\n",
      "  (3, 7)\t1\n",
      "  (3, 2)\t1\n",
      "  (3, 4)\t1\n",
      "  (3, 0)\t1\n",
      "  (4, 7)\t1\n",
      "  (4, 3)\t1\n",
      "  (4, 10)\t1\n"
     ]
    }
   ],
   "source": [
    "# Count Vectorizer \n",
    "\n",
    "cv_model = CountVectorizer(stop_words='english')\n",
    "X = cv_model.fit_transform(dataset)\n",
    "print(X)"
   ]
  },
  {
   "cell_type": "code",
   "execution_count": 4,
   "metadata": {},
   "outputs": [
    {
     "name": "stdout",
     "output_type": "stream",
     "text": [
      "{'house': 5, 'tiny': 11, 'little': 6, 'mouse': 7, 'cat': 2, 'saw': 9, 'ran': 8, 'away': 1, 'finally': 4, 'ate': 0, 'end': 3, 'story': 10}\n"
     ]
    }
   ],
   "source": [
    "print(cv_model.vocabulary_)"
   ]
  },
  {
   "cell_type": "code",
   "execution_count": 5,
   "metadata": {},
   "outputs": [
    {
     "name": "stdout",
     "output_type": "stream",
     "text": [
      "[[0 0 0 0 0 1 1 1 0 0 0 1]\n",
      " [0 0 1 0 0 0 0 1 0 1 0 0]\n",
      " [0 1 0 0 0 1 0 1 1 0 0 0]\n",
      " [1 0 1 0 1 0 0 1 0 0 0 0]\n",
      " [0 0 0 1 0 0 0 1 0 0 1 0]]\n"
     ]
    }
   ],
   "source": [
    "print(X.toarray())"
   ]
  },
  {
   "cell_type": "code",
   "execution_count": 6,
   "metadata": {},
   "outputs": [
    {
     "data": {
      "text/html": [
       "<div>\n",
       "<style scoped>\n",
       "    .dataframe tbody tr th:only-of-type {\n",
       "        vertical-align: middle;\n",
       "    }\n",
       "\n",
       "    .dataframe tbody tr th {\n",
       "        vertical-align: top;\n",
       "    }\n",
       "\n",
       "    .dataframe thead th {\n",
       "        text-align: right;\n",
       "    }\n",
       "</style>\n",
       "<table border=\"1\" class=\"dataframe\">\n",
       "  <thead>\n",
       "    <tr style=\"text-align: right;\">\n",
       "      <th></th>\n",
       "      <th>ate</th>\n",
       "      <th>away</th>\n",
       "      <th>cat</th>\n",
       "      <th>end</th>\n",
       "      <th>finally</th>\n",
       "      <th>house</th>\n",
       "      <th>little</th>\n",
       "      <th>mouse</th>\n",
       "      <th>ran</th>\n",
       "      <th>saw</th>\n",
       "      <th>story</th>\n",
       "      <th>tiny</th>\n",
       "    </tr>\n",
       "  </thead>\n",
       "  <tbody>\n",
       "    <tr>\n",
       "      <th>the house had a tiny little mouse</th>\n",
       "      <td>0</td>\n",
       "      <td>0</td>\n",
       "      <td>0</td>\n",
       "      <td>0</td>\n",
       "      <td>0</td>\n",
       "      <td>1</td>\n",
       "      <td>1</td>\n",
       "      <td>1</td>\n",
       "      <td>0</td>\n",
       "      <td>0</td>\n",
       "      <td>0</td>\n",
       "      <td>1</td>\n",
       "    </tr>\n",
       "    <tr>\n",
       "      <th>the cat saw the mouse</th>\n",
       "      <td>0</td>\n",
       "      <td>0</td>\n",
       "      <td>1</td>\n",
       "      <td>0</td>\n",
       "      <td>0</td>\n",
       "      <td>0</td>\n",
       "      <td>0</td>\n",
       "      <td>1</td>\n",
       "      <td>0</td>\n",
       "      <td>1</td>\n",
       "      <td>0</td>\n",
       "      <td>0</td>\n",
       "    </tr>\n",
       "    <tr>\n",
       "      <th>the mouse ran away from the house</th>\n",
       "      <td>0</td>\n",
       "      <td>1</td>\n",
       "      <td>0</td>\n",
       "      <td>0</td>\n",
       "      <td>0</td>\n",
       "      <td>1</td>\n",
       "      <td>0</td>\n",
       "      <td>1</td>\n",
       "      <td>1</td>\n",
       "      <td>0</td>\n",
       "      <td>0</td>\n",
       "      <td>0</td>\n",
       "    </tr>\n",
       "    <tr>\n",
       "      <th>the cat finally ate the mouse</th>\n",
       "      <td>1</td>\n",
       "      <td>0</td>\n",
       "      <td>1</td>\n",
       "      <td>0</td>\n",
       "      <td>1</td>\n",
       "      <td>0</td>\n",
       "      <td>0</td>\n",
       "      <td>1</td>\n",
       "      <td>0</td>\n",
       "      <td>0</td>\n",
       "      <td>0</td>\n",
       "      <td>0</td>\n",
       "    </tr>\n",
       "    <tr>\n",
       "      <th>the end of the mouse story</th>\n",
       "      <td>0</td>\n",
       "      <td>0</td>\n",
       "      <td>0</td>\n",
       "      <td>1</td>\n",
       "      <td>0</td>\n",
       "      <td>0</td>\n",
       "      <td>0</td>\n",
       "      <td>1</td>\n",
       "      <td>0</td>\n",
       "      <td>0</td>\n",
       "      <td>1</td>\n",
       "      <td>0</td>\n",
       "    </tr>\n",
       "  </tbody>\n",
       "</table>\n",
       "</div>"
      ],
      "text/plain": [
       "                                   ate  away  cat  end  finally  house  \\\n",
       "the house had a tiny little mouse    0     0    0    0        0      1   \n",
       "the cat saw the mouse                0     0    1    0        0      0   \n",
       "the mouse ran away from the house    0     1    0    0        0      1   \n",
       "the cat finally ate the mouse        1     0    1    0        1      0   \n",
       "the end of the mouse story           0     0    0    1        0      0   \n",
       "\n",
       "                                   little  mouse  ran  saw  story  tiny  \n",
       "the house had a tiny little mouse       1      1    0    0      0     1  \n",
       "the cat saw the mouse                   0      1    0    1      0     0  \n",
       "the mouse ran away from the house       0      1    1    0      0     0  \n",
       "the cat finally ate the mouse           0      1    0    0      0     0  \n",
       "the end of the mouse story              0      1    0    0      1     0  "
      ]
     },
     "execution_count": 6,
     "metadata": {},
     "output_type": "execute_result"
    }
   ],
   "source": [
    "pd.DataFrame(X.toarray(), \n",
    "             index = dataset,\n",
    "             columns=cv_model.get_feature_names())"
   ]
  },
  {
   "cell_type": "markdown",
   "metadata": {},
   "source": [
    "## TF-IDF Vectorizer"
   ]
  },
  {
   "cell_type": "code",
   "execution_count": 7,
   "metadata": {},
   "outputs": [
    {
     "name": "stdout",
     "output_type": "stream",
     "text": [
      "  (0, 7)\t0.2808823162882302\n",
      "  (0, 6)\t0.5894630806320427\n",
      "  (0, 11)\t0.5894630806320427\n",
      "  (0, 5)\t0.47557510189256375\n",
      "  (1, 9)\t0.7297183669435993\n",
      "  (1, 2)\t0.5887321837696324\n",
      "  (1, 7)\t0.3477147117091919\n",
      "  (2, 1)\t0.5894630806320427\n",
      "  (2, 8)\t0.5894630806320427\n",
      "  (2, 7)\t0.2808823162882302\n",
      "  (2, 5)\t0.47557510189256375\n",
      "  (3, 0)\t0.5894630806320427\n",
      "  (3, 4)\t0.5894630806320427\n",
      "  (3, 2)\t0.47557510189256375\n",
      "  (3, 7)\t0.2808823162882302\n",
      "  (4, 10)\t0.6700917930430479\n",
      "  (4, 3)\t0.6700917930430479\n",
      "  (4, 7)\t0.3193023297639811\n"
     ]
    }
   ],
   "source": [
    "tfidf_model = TfidfVectorizer(max_features=20, stop_words='english')\n",
    "X = tfidf_model.fit_transform(dataset)\n",
    "print(X)"
   ]
  },
  {
   "cell_type": "code",
   "execution_count": 8,
   "metadata": {},
   "outputs": [
    {
     "name": "stdout",
     "output_type": "stream",
     "text": [
      "{'ate': 0,\n",
      " 'away': 1,\n",
      " 'cat': 2,\n",
      " 'end': 3,\n",
      " 'finally': 4,\n",
      " 'house': 5,\n",
      " 'little': 6,\n",
      " 'mouse': 7,\n",
      " 'ran': 8,\n",
      " 'saw': 9,\n",
      " 'story': 10,\n",
      " 'tiny': 11}\n"
     ]
    }
   ],
   "source": [
    "pprint(tfidf_model.vocabulary_)"
   ]
  },
  {
   "cell_type": "code",
   "execution_count": 9,
   "metadata": {},
   "outputs": [
    {
     "name": "stdout",
     "output_type": "stream",
     "text": [
      "array([[0.        , 0.        , 0.        , 0.        , 0.        ,\n",
      "        0.4755751 , 0.58946308, 0.28088232, 0.        , 0.        ,\n",
      "        0.        , 0.58946308],\n",
      "       [0.        , 0.        , 0.58873218, 0.        , 0.        ,\n",
      "        0.        , 0.        , 0.34771471, 0.        , 0.72971837,\n",
      "        0.        , 0.        ],\n",
      "       [0.        , 0.58946308, 0.        , 0.        , 0.        ,\n",
      "        0.4755751 , 0.        , 0.28088232, 0.58946308, 0.        ,\n",
      "        0.        , 0.        ],\n",
      "       [0.58946308, 0.        , 0.4755751 , 0.        , 0.58946308,\n",
      "        0.        , 0.        , 0.28088232, 0.        , 0.        ,\n",
      "        0.        , 0.        ],\n",
      "       [0.        , 0.        , 0.        , 0.67009179, 0.        ,\n",
      "        0.        , 0.        , 0.31930233, 0.        , 0.        ,\n",
      "        0.67009179, 0.        ]])\n"
     ]
    }
   ],
   "source": [
    "pprint(X.toarray())"
   ]
  },
  {
   "cell_type": "code",
   "execution_count": 16,
   "metadata": {},
   "outputs": [
    {
     "data": {
      "text/html": [
       "<div>\n",
       "<style scoped>\n",
       "    .dataframe tbody tr th:only-of-type {\n",
       "        vertical-align: middle;\n",
       "    }\n",
       "\n",
       "    .dataframe tbody tr th {\n",
       "        vertical-align: top;\n",
       "    }\n",
       "\n",
       "    .dataframe thead th {\n",
       "        text-align: right;\n",
       "    }\n",
       "</style>\n",
       "<table border=\"1\" class=\"dataframe\">\n",
       "  <thead>\n",
       "    <tr style=\"text-align: right;\">\n",
       "      <th></th>\n",
       "      <th>ate</th>\n",
       "      <th>away</th>\n",
       "      <th>cat</th>\n",
       "      <th>end</th>\n",
       "      <th>finally</th>\n",
       "      <th>house</th>\n",
       "      <th>little</th>\n",
       "      <th>mouse</th>\n",
       "      <th>ran</th>\n",
       "      <th>saw</th>\n",
       "      <th>story</th>\n",
       "      <th>tiny</th>\n",
       "    </tr>\n",
       "  </thead>\n",
       "  <tbody>\n",
       "    <tr>\n",
       "      <th>the house had a tiny little mouse</th>\n",
       "      <td>0.000000</td>\n",
       "      <td>0.000000</td>\n",
       "      <td>0.000000</td>\n",
       "      <td>0.000000</td>\n",
       "      <td>0.000000</td>\n",
       "      <td>0.423186</td>\n",
       "      <td>0.611264</td>\n",
       "      <td>0.271340</td>\n",
       "      <td>0.000000</td>\n",
       "      <td>0.000000</td>\n",
       "      <td>0.000000</td>\n",
       "      <td>0.611264</td>\n",
       "    </tr>\n",
       "    <tr>\n",
       "      <th>the cat saw the mouse</th>\n",
       "      <td>0.000000</td>\n",
       "      <td>0.000000</td>\n",
       "      <td>0.599739</td>\n",
       "      <td>0.000000</td>\n",
       "      <td>0.000000</td>\n",
       "      <td>0.000000</td>\n",
       "      <td>0.000000</td>\n",
       "      <td>0.324657</td>\n",
       "      <td>0.000000</td>\n",
       "      <td>0.731376</td>\n",
       "      <td>0.000000</td>\n",
       "      <td>0.000000</td>\n",
       "    </tr>\n",
       "    <tr>\n",
       "      <th>the mouse ran away from the house</th>\n",
       "      <td>0.000000</td>\n",
       "      <td>0.611264</td>\n",
       "      <td>0.000000</td>\n",
       "      <td>0.000000</td>\n",
       "      <td>0.000000</td>\n",
       "      <td>0.423186</td>\n",
       "      <td>0.000000</td>\n",
       "      <td>0.271340</td>\n",
       "      <td>0.611264</td>\n",
       "      <td>0.000000</td>\n",
       "      <td>0.000000</td>\n",
       "      <td>0.000000</td>\n",
       "    </tr>\n",
       "    <tr>\n",
       "      <th>the cat finally ate the mouse</th>\n",
       "      <td>0.590336</td>\n",
       "      <td>0.000000</td>\n",
       "      <td>0.484084</td>\n",
       "      <td>0.000000</td>\n",
       "      <td>0.590336</td>\n",
       "      <td>0.000000</td>\n",
       "      <td>0.000000</td>\n",
       "      <td>0.262050</td>\n",
       "      <td>0.000000</td>\n",
       "      <td>0.000000</td>\n",
       "      <td>0.000000</td>\n",
       "      <td>0.000000</td>\n",
       "    </tr>\n",
       "    <tr>\n",
       "      <th>the end of the mouse story</th>\n",
       "      <td>0.000000</td>\n",
       "      <td>0.000000</td>\n",
       "      <td>0.000000</td>\n",
       "      <td>0.674653</td>\n",
       "      <td>0.000000</td>\n",
       "      <td>0.000000</td>\n",
       "      <td>0.000000</td>\n",
       "      <td>0.299478</td>\n",
       "      <td>0.000000</td>\n",
       "      <td>0.000000</td>\n",
       "      <td>0.674653</td>\n",
       "      <td>0.000000</td>\n",
       "    </tr>\n",
       "    <tr>\n",
       "      <th>mouse in the house</th>\n",
       "      <td>0.000000</td>\n",
       "      <td>0.000000</td>\n",
       "      <td>0.000000</td>\n",
       "      <td>0.000000</td>\n",
       "      <td>0.000000</td>\n",
       "      <td>0.841819</td>\n",
       "      <td>0.000000</td>\n",
       "      <td>0.539760</td>\n",
       "      <td>0.000000</td>\n",
       "      <td>0.000000</td>\n",
       "      <td>0.000000</td>\n",
       "      <td>0.000000</td>\n",
       "    </tr>\n",
       "  </tbody>\n",
       "</table>\n",
       "</div>"
      ],
      "text/plain": [
       "                                        ate      away       cat       end  \\\n",
       "the house had a tiny little mouse  0.000000  0.000000  0.000000  0.000000   \n",
       "the cat saw the mouse              0.000000  0.000000  0.599739  0.000000   \n",
       "the mouse ran away from the house  0.000000  0.611264  0.000000  0.000000   \n",
       "the cat finally ate the mouse      0.590336  0.000000  0.484084  0.000000   \n",
       "the end of the mouse story         0.000000  0.000000  0.000000  0.674653   \n",
       "mouse in the house                 0.000000  0.000000  0.000000  0.000000   \n",
       "\n",
       "                                    finally     house    little     mouse  \\\n",
       "the house had a tiny little mouse  0.000000  0.423186  0.611264  0.271340   \n",
       "the cat saw the mouse              0.000000  0.000000  0.000000  0.324657   \n",
       "the mouse ran away from the house  0.000000  0.423186  0.000000  0.271340   \n",
       "the cat finally ate the mouse      0.590336  0.000000  0.000000  0.262050   \n",
       "the end of the mouse story         0.000000  0.000000  0.000000  0.299478   \n",
       "mouse in the house                 0.000000  0.841819  0.000000  0.539760   \n",
       "\n",
       "                                        ran       saw     story      tiny  \n",
       "the house had a tiny little mouse  0.000000  0.000000  0.000000  0.611264  \n",
       "the cat saw the mouse              0.000000  0.731376  0.000000  0.000000  \n",
       "the mouse ran away from the house  0.611264  0.000000  0.000000  0.000000  \n",
       "the cat finally ate the mouse      0.000000  0.000000  0.000000  0.000000  \n",
       "the end of the mouse story         0.000000  0.000000  0.674653  0.000000  \n",
       "mouse in the house                 0.000000  0.000000  0.000000  0.000000  "
      ]
     },
     "execution_count": 16,
     "metadata": {},
     "output_type": "execute_result"
    }
   ],
   "source": [
    "pd.DataFrame(X.toarray(), \n",
    "             index = dataset,\n",
    "             columns=tfidf_model.get_feature_names())"
   ]
  }
 ],
 "metadata": {
  "kernelspec": {
   "display_name": "Python 3",
   "language": "python",
   "name": "python3"
  },
  "language_info": {
   "codemirror_mode": {
    "name": "ipython",
    "version": 3
   },
   "file_extension": ".py",
   "mimetype": "text/x-python",
   "name": "python",
   "nbconvert_exporter": "python",
   "pygments_lexer": "ipython3",
   "version": "3.7.7"
  }
 },
 "nbformat": 4,
 "nbformat_minor": 2
}

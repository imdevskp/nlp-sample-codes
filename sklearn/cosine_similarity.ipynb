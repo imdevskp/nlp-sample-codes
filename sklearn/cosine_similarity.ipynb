{
 "cells": [
  {
   "cell_type": "markdown",
   "metadata": {},
   "source": [
    "## Libraries"
   ]
  },
  {
   "cell_type": "code",
   "execution_count": 1,
   "metadata": {},
   "outputs": [],
   "source": [
    "import pandas as pd\n",
    "from itertools import combinations\n",
    "from sklearn.feature_extraction.text import CountVectorizer, TfidfVectorizer\n",
    "from sklearn.metrics.pairwise import cosine_similarity"
   ]
  },
  {
   "cell_type": "markdown",
   "metadata": {},
   "source": [
    "## Data"
   ]
  },
  {
   "cell_type": "code",
   "execution_count": 2,
   "metadata": {},
   "outputs": [
    {
     "name": "stdout",
     "output_type": "stream",
     "text": [
      "['the house had a tiny little mouse', 'the cat saw the mouse', 'the house mouse ran away from the house', 'the cat finally ate the mouse', 'the end of the mouse story']\n"
     ]
    }
   ],
   "source": [
    "dataset = [\"the house had a tiny little mouse\",\n",
    "           \"the cat saw the mouse\",\n",
    "           \"the house mouse ran away from the house\",\n",
    "           \"the cat finally ate the mouse\",\n",
    "           \"the end of the mouse story\"]\n",
    "print(dataset)"
   ]
  },
  {
   "cell_type": "markdown",
   "metadata": {},
   "source": [
    "## Method 1"
   ]
  },
  {
   "cell_type": "code",
   "execution_count": 25,
   "metadata": {},
   "outputs": [
    {
     "data": {
      "text/plain": [
       "array([[0.        , 0.        , 0.        , 0.        , 0.        ,\n",
       "        0.4755751 , 0.58946308, 0.28088232, 0.        , 0.        ,\n",
       "        0.        , 0.58946308],\n",
       "       [0.        , 0.        , 0.58873218, 0.        , 0.        ,\n",
       "        0.        , 0.        , 0.34771471, 0.        , 0.72971837,\n",
       "        0.        , 0.        ],\n",
       "       [0.        , 0.45498177, 0.        , 0.        , 0.        ,\n",
       "        0.73415285, 0.        , 0.21680125, 0.45498177, 0.        ,\n",
       "        0.        , 0.        ],\n",
       "       [0.58946308, 0.        , 0.4755751 , 0.        , 0.58946308,\n",
       "        0.        , 0.        , 0.28088232, 0.        , 0.        ,\n",
       "        0.        , 0.        ],\n",
       "       [0.        , 0.        , 0.        , 0.67009179, 0.        ,\n",
       "        0.        , 0.        , 0.31930233, 0.        , 0.        ,\n",
       "        0.67009179, 0.        ]])"
      ]
     },
     "execution_count": 25,
     "metadata": {},
     "output_type": "execute_result"
    }
   ],
   "source": [
    "tfidf_model = TfidfVectorizer(stop_words='english')\n",
    "X = tfidf_model.fit_transform(dataset)\n",
    "X.toarray()"
   ]
  },
  {
   "cell_type": "code",
   "execution_count": 26,
   "metadata": {},
   "outputs": [
    {
     "name": "stdout",
     "output_type": "stream",
     "text": [
      "[[0.08968638 0.11102612 0.06922514 0.08968638 1.        ]]\n"
     ]
    }
   ],
   "source": [
    "print(cosine_similarity(X[-1], X))"
   ]
  },
  {
   "cell_type": "markdown",
   "metadata": {},
   "source": [
    "## Method 2"
   ]
  },
  {
   "cell_type": "code",
   "execution_count": 5,
   "metadata": {},
   "outputs": [],
   "source": [
    "corpus = ['The weather is hot under the sun',\n",
    "          'I make my hot chocolate with milk',\n",
    "          'One hot encoding',\n",
    "          'I will have a chai latte with milk',\n",
    "          'There is a hot sale today']"
   ]
  },
  {
   "cell_type": "code",
   "execution_count": 13,
   "metadata": {},
   "outputs": [
    {
     "data": {
      "text/plain": [
       "array([[0, 0, 0, 1, 0, 0, 0, 0, 1, 0, 1],\n",
       "       [0, 1, 0, 1, 0, 1, 1, 0, 0, 0, 0],\n",
       "       [0, 0, 1, 1, 0, 0, 0, 0, 0, 0, 0],\n",
       "       [1, 0, 0, 0, 1, 0, 1, 0, 0, 0, 0],\n",
       "       [0, 0, 0, 1, 0, 0, 0, 1, 0, 1, 0]], dtype=int64)"
      ]
     },
     "execution_count": 13,
     "metadata": {},
     "output_type": "execute_result"
    }
   ],
   "source": [
    "# create the document-term matrix with count vectorizer\n",
    "cv = CountVectorizer(stop_words=\"english\")\n",
    "X = cv.fit_transform(corpus).toarray()\n",
    "X"
   ]
  },
  {
   "cell_type": "code",
   "execution_count": 14,
   "metadata": {},
   "outputs": [
    {
     "data": {
      "text/html": [
       "<div>\n",
       "<style scoped>\n",
       "    .dataframe tbody tr th:only-of-type {\n",
       "        vertical-align: middle;\n",
       "    }\n",
       "\n",
       "    .dataframe tbody tr th {\n",
       "        vertical-align: top;\n",
       "    }\n",
       "\n",
       "    .dataframe thead th {\n",
       "        text-align: right;\n",
       "    }\n",
       "</style>\n",
       "<table border=\"1\" class=\"dataframe\">\n",
       "  <thead>\n",
       "    <tr style=\"text-align: right;\">\n",
       "      <th></th>\n",
       "      <th>chai</th>\n",
       "      <th>chocolate</th>\n",
       "      <th>encoding</th>\n",
       "      <th>hot</th>\n",
       "      <th>latte</th>\n",
       "      <th>make</th>\n",
       "      <th>milk</th>\n",
       "      <th>sale</th>\n",
       "      <th>sun</th>\n",
       "      <th>today</th>\n",
       "      <th>weather</th>\n",
       "    </tr>\n",
       "  </thead>\n",
       "  <tbody>\n",
       "    <tr>\n",
       "      <th>0</th>\n",
       "      <td>0</td>\n",
       "      <td>0</td>\n",
       "      <td>0</td>\n",
       "      <td>1</td>\n",
       "      <td>0</td>\n",
       "      <td>0</td>\n",
       "      <td>0</td>\n",
       "      <td>0</td>\n",
       "      <td>1</td>\n",
       "      <td>0</td>\n",
       "      <td>1</td>\n",
       "    </tr>\n",
       "    <tr>\n",
       "      <th>1</th>\n",
       "      <td>0</td>\n",
       "      <td>1</td>\n",
       "      <td>0</td>\n",
       "      <td>1</td>\n",
       "      <td>0</td>\n",
       "      <td>1</td>\n",
       "      <td>1</td>\n",
       "      <td>0</td>\n",
       "      <td>0</td>\n",
       "      <td>0</td>\n",
       "      <td>0</td>\n",
       "    </tr>\n",
       "    <tr>\n",
       "      <th>2</th>\n",
       "      <td>0</td>\n",
       "      <td>0</td>\n",
       "      <td>1</td>\n",
       "      <td>1</td>\n",
       "      <td>0</td>\n",
       "      <td>0</td>\n",
       "      <td>0</td>\n",
       "      <td>0</td>\n",
       "      <td>0</td>\n",
       "      <td>0</td>\n",
       "      <td>0</td>\n",
       "    </tr>\n",
       "    <tr>\n",
       "      <th>3</th>\n",
       "      <td>1</td>\n",
       "      <td>0</td>\n",
       "      <td>0</td>\n",
       "      <td>0</td>\n",
       "      <td>1</td>\n",
       "      <td>0</td>\n",
       "      <td>1</td>\n",
       "      <td>0</td>\n",
       "      <td>0</td>\n",
       "      <td>0</td>\n",
       "      <td>0</td>\n",
       "    </tr>\n",
       "    <tr>\n",
       "      <th>4</th>\n",
       "      <td>0</td>\n",
       "      <td>0</td>\n",
       "      <td>0</td>\n",
       "      <td>1</td>\n",
       "      <td>0</td>\n",
       "      <td>0</td>\n",
       "      <td>0</td>\n",
       "      <td>1</td>\n",
       "      <td>0</td>\n",
       "      <td>1</td>\n",
       "      <td>0</td>\n",
       "    </tr>\n",
       "  </tbody>\n",
       "</table>\n",
       "</div>"
      ],
      "text/plain": [
       "   chai  chocolate  encoding  hot  latte  make  milk  sale  sun  today  \\\n",
       "0     0          0         0    1      0     0     0     0    1      0   \n",
       "1     0          1         0    1      0     1     1     0    0      0   \n",
       "2     0          0         1    1      0     0     0     0    0      0   \n",
       "3     1          0         0    0      1     0     1     0    0      0   \n",
       "4     0          0         0    1      0     0     0     1    0      1   \n",
       "\n",
       "   weather  \n",
       "0        1  \n",
       "1        0  \n",
       "2        0  \n",
       "3        0  \n",
       "4        0  "
      ]
     },
     "execution_count": 14,
     "metadata": {},
     "output_type": "execute_result"
    }
   ],
   "source": [
    "dt = pd.DataFrame(X, columns=cv.get_feature_names())\n",
    "dt"
   ]
  },
  {
   "cell_type": "code",
   "execution_count": 15,
   "metadata": {},
   "outputs": [
    {
     "data": {
      "text/plain": [
       "[(0, 1),\n",
       " (0, 2),\n",
       " (0, 3),\n",
       " (0, 4),\n",
       " (1, 2),\n",
       " (1, 3),\n",
       " (1, 4),\n",
       " (2, 3),\n",
       " (2, 4),\n",
       " (3, 4)]"
      ]
     },
     "execution_count": 15,
     "metadata": {},
     "output_type": "execute_result"
    }
   ],
   "source": [
    "# list all of the combinations of 5 take 2 as well as the pairs of phrases\n",
    "pairs = list(combinations(range(len(corpus)),2))\n",
    "pairs"
   ]
  },
  {
   "cell_type": "code",
   "execution_count": 16,
   "metadata": {},
   "outputs": [
    {
     "data": {
      "text/plain": [
       "[('The weather is hot under the sun', 'I make my hot chocolate with milk'),\n",
       " ('The weather is hot under the sun', 'One hot encoding'),\n",
       " ('The weather is hot under the sun', 'I will have a chai latte with milk'),\n",
       " ('The weather is hot under the sun', 'There is a hot sale today'),\n",
       " ('I make my hot chocolate with milk', 'One hot encoding'),\n",
       " ('I make my hot chocolate with milk', 'I will have a chai latte with milk'),\n",
       " ('I make my hot chocolate with milk', 'There is a hot sale today'),\n",
       " ('One hot encoding', 'I will have a chai latte with milk'),\n",
       " ('One hot encoding', 'There is a hot sale today'),\n",
       " ('I will have a chai latte with milk', 'There is a hot sale today')]"
      ]
     },
     "execution_count": 16,
     "metadata": {},
     "output_type": "execute_result"
    }
   ],
   "source": [
    "combos = [(corpus[a_index], corpus[b_index]) for (a_index, b_index) in pairs]\n",
    "combos"
   ]
  },
  {
   "cell_type": "code",
   "execution_count": 21,
   "metadata": {},
   "outputs": [
    {
     "data": {
      "text/plain": [
       "[array([[0.28867513]]),\n",
       " array([[0.40824829]]),\n",
       " array([[0.]]),\n",
       " array([[0.33333333]]),\n",
       " array([[0.35355339]]),\n",
       " array([[0.28867513]]),\n",
       " array([[0.28867513]]),\n",
       " array([[0.]]),\n",
       " array([[0.40824829]]),\n",
       " array([[0.]])]"
      ]
     },
     "execution_count": 21,
     "metadata": {},
     "output_type": "execute_result"
    }
   ],
   "source": [
    "# calculate the cosine similarity for all pairs of phrases and sort by most similar\n",
    "results = [cosine_similarity([X[a_index]], [X[b_index]]) for (a_index, b_index) in pairs]\n",
    "results"
   ]
  },
  {
   "cell_type": "code",
   "execution_count": 22,
   "metadata": {},
   "outputs": [
    {
     "data": {
      "text/plain": [
       "[(array([[0.40824829]]),\n",
       "  ('The weather is hot under the sun', 'One hot encoding')),\n",
       " (array([[0.40824829]]), ('One hot encoding', 'There is a hot sale today')),\n",
       " (array([[0.35355339]]),\n",
       "  ('I make my hot chocolate with milk', 'One hot encoding')),\n",
       " (array([[0.33333333]]),\n",
       "  ('The weather is hot under the sun', 'There is a hot sale today')),\n",
       " (array([[0.28867513]]),\n",
       "  ('The weather is hot under the sun', 'I make my hot chocolate with milk')),\n",
       " (array([[0.28867513]]),\n",
       "  ('I make my hot chocolate with milk', 'There is a hot sale today')),\n",
       " (array([[0.28867513]]),\n",
       "  ('I make my hot chocolate with milk', 'I will have a chai latte with milk')),\n",
       " (array([[0.]]),\n",
       "  ('The weather is hot under the sun', 'I will have a chai latte with milk')),\n",
       " (array([[0.]]), ('One hot encoding', 'I will have a chai latte with milk')),\n",
       " (array([[0.]]),\n",
       "  ('I will have a chai latte with milk', 'There is a hot sale today'))]"
      ]
     },
     "execution_count": 22,
     "metadata": {},
     "output_type": "execute_result"
    }
   ],
   "source": [
    "sorted(zip(results, combos), reverse=True)"
   ]
  },
  {
   "cell_type": "code",
   "execution_count": null,
   "metadata": {},
   "outputs": [],
   "source": []
  },
  {
   "cell_type": "code",
   "execution_count": null,
   "metadata": {},
   "outputs": [],
   "source": []
  },
  {
   "cell_type": "code",
   "execution_count": null,
   "metadata": {},
   "outputs": [],
   "source": []
  }
 ],
 "metadata": {
  "kernelspec": {
   "display_name": "Python 3",
   "language": "python",
   "name": "python3"
  },
  "language_info": {
   "codemirror_mode": {
    "name": "ipython",
    "version": 3
   },
   "file_extension": ".py",
   "mimetype": "text/x-python",
   "name": "python",
   "nbconvert_exporter": "python",
   "pygments_lexer": "ipython3",
   "version": "3.7.7"
  }
 },
 "nbformat": 4,
 "nbformat_minor": 4
}
